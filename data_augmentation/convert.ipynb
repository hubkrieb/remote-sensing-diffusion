{
 "cells": [
  {
   "cell_type": "code",
   "execution_count": 1,
   "metadata": {},
   "outputs": [],
   "source": [
    "import os\n",
    "import cv2\n",
    "import numpy as np\n",
    "import rasterio"
   ]
  },
  {
   "cell_type": "code",
   "execution_count": null,
   "metadata": {},
   "outputs": [],
   "source": [
    "for image_name in os.listdir('synthetic_images/complete'):\n",
    "    image = cv2.imread('synthetic_images/complete/' + image_name)\n",
    "    b, g, r = cv2.split(image)\n",
    "    channel_image = np.zeros((image.shape[0], image.shape[1], 10), dtype=np.int32)\n",
    "    channel_image[..., 6] = r\n",
    "    channel_image[..., 5] = g\n",
    "    channel_image[..., 1] = b\n",
    "    channel_image = channel_image.transpose((2, 0, 1))\n",
    "    background_name = image_name.split('-init')[0] + '.tif'\n",
    "    profile = rasterio.open(f'../semantic segmentation/dataset/manual_annotations/landsat_patches/{background_name}').profile\n",
    "    new_dataset = rasterio.open(\n",
    "    'synthetic_images/tif/' + image_name.split('.')[0] + '.tif',\n",
    "    'w',\n",
    "    **profile\n",
    "    )\n",
    "    new_dataset.write(channel_image*257)\n",
    "    new_dataset.close()"
   ]
  }
 ],
 "metadata": {
  "kernelspec": {
   "display_name": "Python 3",
   "language": "python",
   "name": "python3"
  },
  "language_info": {
   "codemirror_mode": {
    "name": "ipython",
    "version": 3
   },
   "file_extension": ".py",
   "mimetype": "text/x-python",
   "name": "python",
   "nbconvert_exporter": "python",
   "pygments_lexer": "ipython3",
   "version": "3.9.4"
  },
  "orig_nbformat": 4
 },
 "nbformat": 4,
 "nbformat_minor": 2
}
