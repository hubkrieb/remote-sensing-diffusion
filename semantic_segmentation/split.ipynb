{
 "cells": [
  {
   "cell_type": "code",
   "execution_count": 1,
   "metadata": {},
   "outputs": [],
   "source": [
    "import os\n",
    "import sys\n",
    "import numpy as np\n",
    "import torch.utils.data as data\n",
    "import torch\n",
    "\n",
    "current = os.path.dirname(os.path.realpath('__file__'))\n",
    "parent = os.path.dirname(current)\n",
    "sys.path.append(parent)\n",
    "\n",
    "from utils import get_img_arr, get_mask_arr"
   ]
  },
  {
   "cell_type": "code",
   "execution_count": 2,
   "metadata": {},
   "outputs": [],
   "source": [
    "images = np.asarray(os.listdir('dataset/manual_annotations/landsat_patches'))\n",
    "images = np.char.rstrip(images, '.tif')"
   ]
  },
  {
   "cell_type": "code",
   "execution_count": 3,
   "metadata": {},
   "outputs": [],
   "source": [
    "class SegmentationDataset(data.Dataset):\n",
    "        def __init__(self, image_folder, mask_folder, n_channels = 3):\n",
    "            self.image_folder = image_folder\n",
    "            self.mask_folder = mask_folder\n",
    "\n",
    "            self.n_channels = n_channels\n",
    "\n",
    "            self.images = os.listdir(image_folder)\n",
    "            self.masks = os.listdir(mask_folder)\n",
    "\n",
    "        def __len__(self):\n",
    "            return len(self.images)\n",
    "\n",
    "        def __getitem__(self, idx):\n",
    "            image_path = os.path.join(self.image_folder, self.images[idx])\n",
    "\n",
    "            image = get_img_arr(image_path, self.n_channels)\n",
    "\n",
    "            mask_name = self.images[idx][:-10] + 'v1_' + self.images[idx][-10:]\n",
    "            if mask_name in self.masks:\n",
    "                mask_path = os.path.join(self.mask_folder, mask_name)\n",
    "                mask = get_mask_arr(mask_path)\n",
    "            else:\n",
    "                mask = torch.zeros((1, 256, 256))\n",
    "\n",
    "            return image, mask"
   ]
  },
  {
   "cell_type": "code",
   "execution_count": 4,
   "metadata": {},
   "outputs": [],
   "source": [
    "dataset = SegmentationDataset('dataset/manual_annotations/landsat_patches', 'dataset/manual_annotations/manual_annotations_patches')\n",
    "dataloader = data.DataLoader(dataset)\n",
    "fire_pixels = []\n",
    "for image, mask in dataloader:\n",
    "    fire_pixels.append(int(mask.sum()))"
   ]
  },
  {
   "cell_type": "code",
   "execution_count": 5,
   "metadata": {},
   "outputs": [
    {
     "data": {
      "text/plain": [
       "array([['LC08_L1GT_226074_20200921_20200921_01_RT_p00021', '0'],\n",
       "       ['LC08_L1GT_226074_20200921_20200921_01_RT_p00022', '0'],\n",
       "       ['LC08_L1GT_226074_20200921_20200921_01_RT_p00023', '0'],\n",
       "       ...,\n",
       "       ['LC08_L1TP_193029_20200914_20200914_01_RT_p00910', '0'],\n",
       "       ['LC08_L1TP_193029_20200914_20200914_01_RT_p00936', '0'],\n",
       "       ['LC08_L1TP_193029_20200914_20200914_01_RT_p00937', '0']],\n",
       "      dtype='<U51')"
      ]
     },
     "execution_count": 5,
     "metadata": {},
     "output_type": "execute_result"
    }
   ],
   "source": [
    "images = np.array((images, fire_pixels)).T\n",
    "images"
   ]
  },
  {
   "cell_type": "code",
   "execution_count": 6,
   "metadata": {},
   "outputs": [],
   "source": [
    "np.savetxt('dataset/manual_annotations/fire_pixels.csv', images, delimiter = ',', fmt = '%s')"
   ]
  },
  {
   "cell_type": "code",
   "execution_count": 7,
   "metadata": {},
   "outputs": [],
   "source": [
    "generator = torch.Generator().manual_seed(42)\n",
    "dataset = SegmentationDataset('dataset/manual_annotations/landsat_patches', 'dataset/manual_annotations/manual_annotations_patches')\n",
    "train_dataset, val_dataset, test_dataset = data.random_split(dataset, [0.7, 0.2, 0.1])"
   ]
  },
  {
   "cell_type": "code",
   "execution_count": 8,
   "metadata": {},
   "outputs": [],
   "source": [
    "train_images = images[train_dataset.indices]\n",
    "val_images = images[val_dataset.indices]\n",
    "test_images = images[test_dataset.indices]"
   ]
  },
  {
   "cell_type": "code",
   "execution_count": 9,
   "metadata": {},
   "outputs": [
    {
     "name": "stdout",
     "output_type": "stream",
     "text": [
      "6324\n",
      "66\n",
      "37378\n"
     ]
    }
   ],
   "source": [
    "print(train_images.shape[0])\n",
    "print((train_images[:, 1].astype('int') > 0).sum())\n",
    "print(train_images[:, 1].astype('int').sum())"
   ]
  },
  {
   "cell_type": "code",
   "execution_count": 10,
   "metadata": {},
   "outputs": [
    {
     "name": "stdout",
     "output_type": "stream",
     "text": [
      "1806\n",
      "21\n",
      "17383\n"
     ]
    }
   ],
   "source": [
    "print(val_images.shape[0])\n",
    "print((val_images[:, 1].astype('int') > 0).sum())\n",
    "print(val_images[:, 1].astype('int').sum())"
   ]
  },
  {
   "cell_type": "code",
   "execution_count": 11,
   "metadata": {},
   "outputs": [
    {
     "name": "stdout",
     "output_type": "stream",
     "text": [
      "903\n",
      "13\n",
      "17070\n"
     ]
    }
   ],
   "source": [
    "print(test_images.shape[0])\n",
    "print((test_images[:, 1].astype('int') > 0).sum())\n",
    "print(test_images[:, 1].astype('int').sum())"
   ]
  },
  {
   "cell_type": "code",
   "execution_count": 12,
   "metadata": {},
   "outputs": [],
   "source": [
    "np.savetxt('dataset/manual_annotations/train.csv', train_images, delimiter = ',', fmt = '%s')\n",
    "np.savetxt('dataset/manual_annotations/val.csv', val_images, delimiter = ',', fmt = '%s')\n",
    "np.savetxt('dataset/manual_annotations/test.csv', test_images, delimiter = ',', fmt = '%s')"
   ]
  }
 ],
 "metadata": {
  "kernelspec": {
   "display_name": "Python 3",
   "language": "python",
   "name": "python3"
  },
  "language_info": {
   "codemirror_mode": {
    "name": "ipython",
    "version": 3
   },
   "file_extension": ".py",
   "mimetype": "text/x-python",
   "name": "python",
   "nbconvert_exporter": "python",
   "pygments_lexer": "ipython3",
   "version": "3.9.4"
  },
  "orig_nbformat": 4
 },
 "nbformat": 4,
 "nbformat_minor": 2
}
