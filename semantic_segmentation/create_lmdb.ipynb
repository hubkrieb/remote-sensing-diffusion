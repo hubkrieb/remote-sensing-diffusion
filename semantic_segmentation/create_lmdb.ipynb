{
 "cells": [
  {
   "cell_type": "code",
   "execution_count": 1,
   "metadata": {},
   "outputs": [],
   "source": [
    "import lmdb\n",
    "import sys\n",
    "import os\n",
    "import numpy as np\n",
    "\n",
    "current = os.path.dirname(os.path.realpath('__file__'))\n",
    "parent = os.path.dirname(current)\n",
    "sys.path.append(parent)\n",
    "\n",
    "import utils"
   ]
  },
  {
   "cell_type": "code",
   "execution_count": 19,
   "metadata": {},
   "outputs": [],
   "source": [
    "def write_lmdb(image_folder, mask_folder, lmdb_path):\n",
    "    # Set up LMDB environment\n",
    "    env = lmdb.open(lmdb_path, map_size = int(2e10))\n",
    "    txn = env.begin(write=True)\n",
    "    \n",
    "    image_names = os.listdir(image_folder)\n",
    "    mask_names = os.listdir(mask_folder)\n",
    "\n",
    "    # Iterate over image files in folder\n",
    "    for i in range(len(image_names)):\n",
    "        image_name = image_names[i]\n",
    "        mask_name = mask_names[i]\n",
    "        image_path = os.path.join(image_folder, image_name)\n",
    "        image_key = image_name.split('.')[0]\n",
    "        mask_path = os.path.join(mask_folder, mask_name)\n",
    "        mask_key = image_key + '_mask'\n",
    "        image = utils.get_img_arr(image_path, 3)\n",
    "        mask = utils.get_mask_arr(mask_path)\n",
    "        txn.put(image_key.encode('ascii'), image.numpy().tobytes())\n",
    "        txn.put(mask_key.encode('ascii'), mask.numpy().tobytes())\n",
    "    \n",
    "    # Commit changes and close LMDB environment\n",
    "    txn.commit()\n",
    "    env.close()"
   ]
  },
  {
   "cell_type": "code",
   "execution_count": 3,
   "metadata": {},
   "outputs": [],
   "source": [
    "def write_lmdb(image_folder, mask_folder, lmdb_path):\n",
    "    # Set up LMDB environment\n",
    "    env = lmdb.open(lmdb_path, map_size = int(2e10))\n",
    "    txn = env.begin(write=True)\n",
    "    \n",
    "    image_names = os.listdir(image_folder)\n",
    "    mask_names = os.listdir(mask_folder)\n",
    "\n",
    "    # Iterate over image files in folder\n",
    "    for image_name in image_names:\n",
    "        mask_name = image_name[:-10] + 'v1_' + image_name[-10:]\n",
    "        image_path = os.path.join(image_folder, image_name)\n",
    "        assert os.path.exists(image_path), f'Image at {image_path} does not exist'\n",
    "        image_key = image_name.split('.')[0]\n",
    "        mask_path = os.path.join(mask_folder, mask_name)\n",
    "        mask_key = image_key + '_mask'\n",
    "        image = utils.get_img_arr(image_path, 3)\n",
    "        # If the mask does not exist, then create an empty one\n",
    "        if mask_name in mask_names:\n",
    "            assert os.path.exists(mask_path), f'Mask at {mask_path} does not exist'\n",
    "            mask = utils.get_mask_arr(mask_path)\n",
    "            mask = mask.numpy().tobytes()\n",
    "        else:\n",
    "            mask = np.zeros((1, 256, 256), dtype = np.float32).tobytes()\n",
    "        txn.put(image_key.encode('ascii'), image.numpy().tobytes())\n",
    "        txn.put(mask_key.encode('ascii'), mask)\n",
    "    \n",
    "    # Commit changes and close LMDB environment\n",
    "    txn.commit()\n",
    "    env.close()"
   ]
  },
  {
   "cell_type": "code",
   "execution_count": 4,
   "metadata": {},
   "outputs": [],
   "source": [
    "write_lmdb('dataset/manual_annotations/landsat_patches', 'dataset/manual_annotations/manual_annotations_patches', 'dataset/manual_lmdb')"
   ]
  },
  {
   "cell_type": "code",
   "execution_count": 4,
   "metadata": {},
   "outputs": [],
   "source": [
    "write_lmdb('dataset/augmented_dataset/landsat_patches/', 'dataset/augmented_dataset/manual_annotations_patches', 'dataset/augmented_dataset/lmdb')"
   ]
  }
 ],
 "metadata": {
  "kernelspec": {
   "display_name": "Python 3",
   "language": "python",
   "name": "python3"
  },
  "language_info": {
   "codemirror_mode": {
    "name": "ipython",
    "version": 3
   },
   "file_extension": ".py",
   "mimetype": "text/x-python",
   "name": "python",
   "nbconvert_exporter": "python",
   "pygments_lexer": "ipython3",
   "version": "3.9.4"
  },
  "orig_nbformat": 4
 },
 "nbformat": 4,
 "nbformat_minor": 2
}
